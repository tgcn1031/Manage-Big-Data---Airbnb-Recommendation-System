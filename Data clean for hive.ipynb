{
 "cells": [
  {
   "cell_type": "markdown",
   "id": "1e6188c8",
   "metadata": {},
   "source": [
    "# Loading original data"
   ]
  },
  {
   "cell_type": "markdown",
   "id": "1b5554a3",
   "metadata": {},
   "source": [
    "Need to change to the new path before loading"
   ]
  },
  {
   "cell_type": "code",
   "execution_count": null,
   "id": "41b90783",
   "metadata": {},
   "outputs": [],
   "source": [
    "import pandas as pd\n",
    "listing=pd.read_csv(\"/Users/tgcn/Downloads/listings (2).csv\")"
   ]
  },
  {
   "cell_type": "code",
   "execution_count": 52,
   "id": "942943ed",
   "metadata": {},
   "outputs": [],
   "source": [
    "reviews=pd.read_csv(\"/Users/tgcn/Official_Things/Emory/Manage big data/FINAL PROJECT/los-angeles/reviews.csv\")"
   ]
  },
  {
   "cell_type": "code",
   "execution_count": 23,
   "id": "3ce45ca3",
   "metadata": {},
   "outputs": [],
   "source": [
    "calendar=pd.read_csv(\"/Users/tgcn/Official_Things/Emory/Manage big data/FINAL PROJECT/los-angeles/calendar.csv\")"
   ]
  },
  {
   "cell_type": "markdown",
   "id": "67e716c9",
   "metadata": {},
   "source": [
    "# Create listing table"
   ]
  },
  {
   "cell_type": "code",
   "execution_count": 65,
   "id": "32a8899e",
   "metadata": {
    "scrolled": true
   },
   "outputs": [
    {
     "data": {
      "text/plain": [
       "Index(['id', 'revenue', 'name', 'neighbourhood_cleansed', 'latitude',\n",
       "       'longitude', 'license', 'instant_bookable', 'host_id', 'property_type',\n",
       "       'room_type', 'accommodates', 'bathrooms', 'bathrooms_text', 'bedrooms',\n",
       "       'beds', 'amenities', 'number_of_reviews', 'number_of_reviews_ltm',\n",
       "       'number_of_reviews_l30d', 'first_review', 'last_review',\n",
       "       'review_scores_rating', 'review_scores_accuracy',\n",
       "       'review_scores_cleanliness', 'review_scores_checkin',\n",
       "       'review_scores_communication', 'review_scores_location',\n",
       "       'review_scores_value', 'availability_30', 'availability_60',\n",
       "       'availability_90', 'availability_365'],\n",
       "      dtype='object')"
      ]
     },
     "execution_count": 65,
     "metadata": {},
     "output_type": "execute_result"
    }
   ],
   "source": [
    "listing.columns"
   ]
  },
  {
   "cell_type": "code",
   "execution_count": 54,
   "id": "5a1c3edb",
   "metadata": {},
   "outputs": [],
   "source": [
    "# excluse comma)\n",
    "listing[\"amenities\"] = listing[\"amenities\"].str.replace(\",\",\"\",regex=True)\n",
    "listing[\"name\"] = listing[\"name\"].str.replace(\",\",\"\",regex=True)"
   ]
  },
  {
   "cell_type": "code",
   "execution_count": 55,
   "id": "bd2e77d5",
   "metadata": {},
   "outputs": [],
   "source": [
    "# drop nas in review related colummns\n",
    "listing[['review_scores_rating', 'review_scores_accuracy',\n",
    "       'review_scores_cleanliness', 'review_scores_checkin',\n",
    "       'review_scores_communication', 'review_scores_location',\n",
    "       'review_scores_value']] = listing[['review_scores_rating', 'review_scores_accuracy',\n",
    "       'review_scores_cleanliness', 'review_scores_checkin',\n",
    "       'review_scores_communication', 'review_scores_location',\n",
    "       'review_scores_value']].fillna(0)"
   ]
  },
  {
   "cell_type": "code",
   "execution_count": 56,
   "id": "fd02eb85",
   "metadata": {},
   "outputs": [],
   "source": [
    "# bathrooms columns are all na\n",
    "listing = listing.drop(['bathrooms'], axis=1)"
   ]
  },
  {
   "cell_type": "code",
   "execution_count": 51,
   "id": "4b1aba71",
   "metadata": {},
   "outputs": [
    {
     "data": {
      "text/plain": [
       "0         2.0\n",
       "1        37.0\n",
       "2        23.0\n",
       "3         0.0\n",
       "4        23.0\n",
       "         ... \n",
       "42031     0.0\n",
       "42032     0.0\n",
       "42033     0.0\n",
       "42034     0.0\n",
       "42035     0.0\n",
       "Name: number_of_reviews, Length: 42036, dtype: float64"
      ]
     },
     "execution_count": 51,
     "metadata": {},
     "output_type": "execute_result"
    }
   ],
   "source": [
    "listing.number_of_reviews"
   ]
  },
  {
   "cell_type": "code",
   "execution_count": 48,
   "id": "7aab005a",
   "metadata": {},
   "outputs": [
    {
     "data": {
      "text/html": [
       "<div>\n",
       "<style scoped>\n",
       "    .dataframe tbody tr th:only-of-type {\n",
       "        vertical-align: middle;\n",
       "    }\n",
       "\n",
       "    .dataframe tbody tr th {\n",
       "        vertical-align: top;\n",
       "    }\n",
       "\n",
       "    .dataframe thead th {\n",
       "        text-align: right;\n",
       "    }\n",
       "</style>\n",
       "<table border=\"1\" class=\"dataframe\">\n",
       "  <thead>\n",
       "    <tr style=\"text-align: right;\">\n",
       "      <th></th>\n",
       "      <th>id</th>\n",
       "      <th>revenue</th>\n",
       "      <th>name</th>\n",
       "      <th>neighbourhood_cleansed</th>\n",
       "      <th>latitude</th>\n",
       "      <th>longitude</th>\n",
       "      <th>license</th>\n",
       "      <th>instant_bookable</th>\n",
       "      <th>host_id</th>\n",
       "      <th>property_type</th>\n",
       "      <th>...</th>\n",
       "      <th>review_scores_accuracy</th>\n",
       "      <th>review_scores_cleanliness</th>\n",
       "      <th>review_scores_checkin</th>\n",
       "      <th>review_scores_communication</th>\n",
       "      <th>review_scores_location</th>\n",
       "      <th>review_scores_value</th>\n",
       "      <th>availability_30</th>\n",
       "      <th>availability_60</th>\n",
       "      <th>availability_90</th>\n",
       "      <th>availability_365</th>\n",
       "    </tr>\n",
       "  </thead>\n",
       "  <tbody>\n",
       "    <tr>\n",
       "      <th>0</th>\n",
       "      <td>109</td>\n",
       "      <td>38261.0</td>\n",
       "      <td>Amazing bright elegant condo park front *UPGRA...</td>\n",
       "      <td>Culver City</td>\n",
       "      <td>33.98301</td>\n",
       "      <td>-118.38607</td>\n",
       "      <td>NaN</td>\n",
       "      <td>f</td>\n",
       "      <td>521.0</td>\n",
       "      <td>Entire condo</td>\n",
       "      <td>...</td>\n",
       "      <td>5.00</td>\n",
       "      <td>5.00</td>\n",
       "      <td>3.00</td>\n",
       "      <td>4.00</td>\n",
       "      <td>5.00</td>\n",
       "      <td>4.00</td>\n",
       "      <td>0.0</td>\n",
       "      <td>0.0</td>\n",
       "      <td>0.0</td>\n",
       "      <td>43.0</td>\n",
       "    </tr>\n",
       "    <tr>\n",
       "      <th>1</th>\n",
       "      <td>2708</td>\n",
       "      <td>12555.0</td>\n",
       "      <td>Runyon Canyon | Beau Furn Mirror Mini-Suite Fi...</td>\n",
       "      <td>Hollywood</td>\n",
       "      <td>34.09625</td>\n",
       "      <td>-118.34605</td>\n",
       "      <td>NaN</td>\n",
       "      <td>t</td>\n",
       "      <td>3008.0</td>\n",
       "      <td>Private room in rental unit</td>\n",
       "      <td>...</td>\n",
       "      <td>4.81</td>\n",
       "      <td>4.92</td>\n",
       "      <td>5.00</td>\n",
       "      <td>4.97</td>\n",
       "      <td>5.00</td>\n",
       "      <td>4.86</td>\n",
       "      <td>0.0</td>\n",
       "      <td>0.0</td>\n",
       "      <td>0.0</td>\n",
       "      <td>230.0</td>\n",
       "    </tr>\n",
       "    <tr>\n",
       "      <th>2</th>\n",
       "      <td>2732</td>\n",
       "      <td>6444.0</td>\n",
       "      <td>Zen Life at the Beach</td>\n",
       "      <td>Santa Monica</td>\n",
       "      <td>34.00440</td>\n",
       "      <td>-118.48095</td>\n",
       "      <td>228269</td>\n",
       "      <td>f</td>\n",
       "      <td>3041.0</td>\n",
       "      <td>Private room in rental unit</td>\n",
       "      <td>...</td>\n",
       "      <td>4.41</td>\n",
       "      <td>4.57</td>\n",
       "      <td>4.50</td>\n",
       "      <td>4.55</td>\n",
       "      <td>4.91</td>\n",
       "      <td>4.36</td>\n",
       "      <td>17.0</td>\n",
       "      <td>24.0</td>\n",
       "      <td>54.0</td>\n",
       "      <td>329.0</td>\n",
       "    </tr>\n",
       "    <tr>\n",
       "      <th>3</th>\n",
       "      <td>2864</td>\n",
       "      <td>27710.0</td>\n",
       "      <td>* Beautiful Master Suite/Jacuzzi Tub/*</td>\n",
       "      <td>Bellflower</td>\n",
       "      <td>33.87490</td>\n",
       "      <td>-118.11515</td>\n",
       "      <td>NaN</td>\n",
       "      <td>f</td>\n",
       "      <td>3207.0</td>\n",
       "      <td>Entire rental unit</td>\n",
       "      <td>...</td>\n",
       "      <td>0.00</td>\n",
       "      <td>0.00</td>\n",
       "      <td>0.00</td>\n",
       "      <td>0.00</td>\n",
       "      <td>0.00</td>\n",
       "      <td>0.00</td>\n",
       "      <td>0.0</td>\n",
       "      <td>0.0</td>\n",
       "      <td>0.0</td>\n",
       "      <td>0.0</td>\n",
       "    </tr>\n",
       "    <tr>\n",
       "      <th>4</th>\n",
       "      <td>3021</td>\n",
       "      <td>700.0</td>\n",
       "      <td>Hollywood Hills Zen Modern style Apt/Guesthouse</td>\n",
       "      <td>Hollywood Hills West</td>\n",
       "      <td>34.11160</td>\n",
       "      <td>-118.38223</td>\n",
       "      <td>NaN</td>\n",
       "      <td>f</td>\n",
       "      <td>3415.0</td>\n",
       "      <td>Entire guest suite</td>\n",
       "      <td>...</td>\n",
       "      <td>4.04</td>\n",
       "      <td>3.83</td>\n",
       "      <td>3.96</td>\n",
       "      <td>4.30</td>\n",
       "      <td>4.64</td>\n",
       "      <td>4.00</td>\n",
       "      <td>24.0</td>\n",
       "      <td>54.0</td>\n",
       "      <td>84.0</td>\n",
       "      <td>359.0</td>\n",
       "    </tr>\n",
       "  </tbody>\n",
       "</table>\n",
       "<p>5 rows × 32 columns</p>\n",
       "</div>"
      ],
      "text/plain": [
       "     id  revenue                                               name  \\\n",
       "0   109  38261.0  Amazing bright elegant condo park front *UPGRA...   \n",
       "1  2708  12555.0  Runyon Canyon | Beau Furn Mirror Mini-Suite Fi...   \n",
       "2  2732   6444.0                              Zen Life at the Beach   \n",
       "3  2864  27710.0             * Beautiful Master Suite/Jacuzzi Tub/*   \n",
       "4  3021    700.0    Hollywood Hills Zen Modern style Apt/Guesthouse   \n",
       "\n",
       "  neighbourhood_cleansed  latitude  longitude license instant_bookable  \\\n",
       "0            Culver City  33.98301 -118.38607     NaN                f   \n",
       "1              Hollywood  34.09625 -118.34605     NaN                t   \n",
       "2           Santa Monica  34.00440 -118.48095  228269                f   \n",
       "3             Bellflower  33.87490 -118.11515     NaN                f   \n",
       "4   Hollywood Hills West  34.11160 -118.38223     NaN                f   \n",
       "\n",
       "   host_id                property_type  ... review_scores_accuracy  \\\n",
       "0    521.0                 Entire condo  ...                   5.00   \n",
       "1   3008.0  Private room in rental unit  ...                   4.81   \n",
       "2   3041.0  Private room in rental unit  ...                   4.41   \n",
       "3   3207.0           Entire rental unit  ...                   0.00   \n",
       "4   3415.0           Entire guest suite  ...                   4.04   \n",
       "\n",
       "   review_scores_cleanliness review_scores_checkin  \\\n",
       "0                       5.00                  3.00   \n",
       "1                       4.92                  5.00   \n",
       "2                       4.57                  4.50   \n",
       "3                       0.00                  0.00   \n",
       "4                       3.83                  3.96   \n",
       "\n",
       "   review_scores_communication  review_scores_location review_scores_value  \\\n",
       "0                         4.00                    5.00                4.00   \n",
       "1                         4.97                    5.00                4.86   \n",
       "2                         4.55                    4.91                4.36   \n",
       "3                         0.00                    0.00                0.00   \n",
       "4                         4.30                    4.64                4.00   \n",
       "\n",
       "   availability_30  availability_60  availability_90 availability_365  \n",
       "0              0.0              0.0              0.0             43.0  \n",
       "1              0.0              0.0              0.0            230.0  \n",
       "2             17.0             24.0             54.0            329.0  \n",
       "3              0.0              0.0              0.0              0.0  \n",
       "4             24.0             54.0             84.0            359.0  \n",
       "\n",
       "[5 rows x 32 columns]"
      ]
     },
     "execution_count": 48,
     "metadata": {},
     "output_type": "execute_result"
    }
   ],
   "source": [
    "listing.head()"
   ]
  },
  {
   "cell_type": "code",
   "execution_count": 49,
   "id": "379d6255",
   "metadata": {},
   "outputs": [
    {
     "data": {
      "text/plain": [
       "Index(['id', 'revenue', 'name', 'neighbourhood_cleansed', 'latitude',\n",
       "       'longitude', 'license', 'instant_bookable', 'host_id', 'property_type',\n",
       "       'room_type', 'accommodates', 'bathrooms_text', 'bedrooms', 'beds',\n",
       "       'amenities', 'number_of_reviews', 'number_of_reviews_ltm',\n",
       "       'number_of_reviews_l30d', 'first_review', 'last_review',\n",
       "       'review_scores_rating', 'review_scores_accuracy',\n",
       "       'review_scores_cleanliness', 'review_scores_checkin',\n",
       "       'review_scores_communication', 'review_scores_location',\n",
       "       'review_scores_value', 'availability_30', 'availability_60',\n",
       "       'availability_90', 'availability_365'],\n",
       "      dtype='object')"
      ]
     },
     "execution_count": 49,
     "metadata": {},
     "output_type": "execute_result"
    }
   ],
   "source": [
    "listing.columns"
   ]
  },
  {
   "cell_type": "code",
   "execution_count": 57,
   "id": "1811ec47",
   "metadata": {},
   "outputs": [],
   "source": [
    "#output\n",
    "listing.to_csv(\"/Users/tgcn/Official_Things/Emory/Manage big data/FINAL PROJECT/s3/listing.csv\",sep=',',na_rep=\"NA\",header=True,index=False)"
   ]
  },
  {
   "cell_type": "markdown",
   "id": "21d72d97",
   "metadata": {},
   "source": [
    "# Create host table"
   ]
  },
  {
   "cell_type": "code",
   "execution_count": 71,
   "id": "11a59006",
   "metadata": {},
   "outputs": [],
   "source": [
    "#--------host\n",
    "host=pd.read_csv(\"/Users/tgcn/Downloads/host (1).csv\")"
   ]
  },
  {
   "cell_type": "code",
   "execution_count": 72,
   "id": "5019450a",
   "metadata": {},
   "outputs": [
    {
     "data": {
      "text/plain": [
       "Index(['host_id', 'host_name', 'host_since', 'host_location',\n",
       "       'host_response_time', 'host_response_rate', 'host_acceptance_rate',\n",
       "       'host_is_superhost', 'host_neighbourhood', 'host_listings_count',\n",
       "       'host_total_listings_count', 'host_verifications',\n",
       "       'host_has_profile_pic', 'host_identity_verified',\n",
       "       'calculated_host_listings_count',\n",
       "       'calculated_host_listings_count_entire_homes',\n",
       "       'calculated_host_listings_count_private_rooms',\n",
       "       'calculated_host_listings_count_shared_rooms'],\n",
       "      dtype='object')"
      ]
     },
     "execution_count": 72,
     "metadata": {},
     "output_type": "execute_result"
    }
   ],
   "source": [
    "host.columns"
   ]
  },
  {
   "cell_type": "code",
   "execution_count": 73,
   "id": "f96b8679",
   "metadata": {},
   "outputs": [],
   "source": [
    "# excluse comma\n",
    "host[\"host_location\"] = host[\"host_location\"].str.replace(\",\",\"\",regex=True)\n",
    "host[\"host_verifications\"] = host[\"host_verifications\"].str.replace(\",\",\"\",regex=True)"
   ]
  },
  {
   "cell_type": "code",
   "execution_count": 74,
   "id": "f0a13f27",
   "metadata": {},
   "outputs": [
    {
     "data": {
      "text/plain": [
       "within an hour         9918\n",
       "within a few hours     3076\n",
       "within a day           1818\n",
       "a few days or more      508\n",
       "Other Cities              2\n",
       "City of Los Angeles       1\n",
       "Name: host_response_time, dtype: int64"
      ]
     },
     "execution_count": 74,
     "metadata": {},
     "output_type": "execute_result"
    }
   ],
   "source": [
    "# NA in host_respnse_time\n",
    "host[\"host_response_time\"].value_counts()"
   ]
  },
  {
   "cell_type": "code",
   "execution_count": 75,
   "id": "e0190f8f",
   "metadata": {},
   "outputs": [],
   "source": [
    "host[\"host_response_time\"]=host[\"host_response_time\"].fillna(\"unknown\")"
   ]
  },
  {
   "cell_type": "code",
   "execution_count": 76,
   "id": "6ce53f8d",
   "metadata": {},
   "outputs": [
    {
     "name": "stderr",
     "output_type": "stream",
     "text": [
      "/var/folders/h5/kkrtkj0n7fqdxjxhkp9v4zl00000gn/T/ipykernel_74192/1762452558.py:1: SettingWithCopyWarning: \n",
      "A value is trying to be set on a copy of a slice from a DataFrame\n",
      "\n",
      "See the caveats in the documentation: https://pandas.pydata.org/pandas-docs/stable/user_guide/indexing.html#returning-a-view-versus-a-copy\n",
      "  host[\"host_response_time\"][(host[\"host_response_time\"]==\"Other Cities\")|(host[\"host_response_time\"]==\"City of Los Angeles\")] = \"unknown\"\n"
     ]
    }
   ],
   "source": [
    "host[\"host_response_time\"][(host[\"host_response_time\"]==\"Other Cities\")|(host[\"host_response_time\"]==\"City of Los Angeles\")] = \"unknown\""
   ]
  },
  {
   "cell_type": "code",
   "execution_count": 77,
   "id": "68fad694",
   "metadata": {},
   "outputs": [],
   "source": [
    "#output\n",
    "host.to_csv(\"/Users/tgcn/Official_Things/Emory/Manage big data/FINAL PROJECT/s3/host.csv\",sep=',',na_rep=\"NA\",header=True,index=False)"
   ]
  },
  {
   "cell_type": "markdown",
   "id": "9cc35968",
   "metadata": {},
   "source": [
    "# Create review table"
   ]
  },
  {
   "cell_type": "code",
   "execution_count": 37,
   "id": "30f14060",
   "metadata": {},
   "outputs": [],
   "source": [
    "#-----reviews------\n",
    "reviews=pd.read_csv(\"/Users/tgcn/Official_Things/Emory/Manage big data/FINAL PROJECT/Cali/reviews.csv\")"
   ]
  },
  {
   "cell_type": "code",
   "execution_count": 38,
   "id": "0bfde662",
   "metadata": {},
   "outputs": [
    {
     "data": {
      "text/html": [
       "<div>\n",
       "<style scoped>\n",
       "    .dataframe tbody tr th:only-of-type {\n",
       "        vertical-align: middle;\n",
       "    }\n",
       "\n",
       "    .dataframe tbody tr th {\n",
       "        vertical-align: top;\n",
       "    }\n",
       "\n",
       "    .dataframe thead th {\n",
       "        text-align: right;\n",
       "    }\n",
       "</style>\n",
       "<table border=\"1\" class=\"dataframe\">\n",
       "  <thead>\n",
       "    <tr style=\"text-align: right;\">\n",
       "      <th></th>\n",
       "      <th>listing_id</th>\n",
       "      <th>id</th>\n",
       "      <th>date</th>\n",
       "      <th>reviewer_id</th>\n",
       "      <th>reviewer_name</th>\n",
       "      <th>comments</th>\n",
       "    </tr>\n",
       "  </thead>\n",
       "  <tbody>\n",
       "    <tr>\n",
       "      <th>0</th>\n",
       "      <td>109</td>\n",
       "      <td>449036</td>\n",
       "      <td>2011-08-15</td>\n",
       "      <td>927861</td>\n",
       "      <td>Edwin</td>\n",
       "      <td>The host canceled my reservation the day befor...</td>\n",
       "    </tr>\n",
       "    <tr>\n",
       "      <th>1</th>\n",
       "      <td>45392</td>\n",
       "      <td>270172</td>\n",
       "      <td>2011-05-18</td>\n",
       "      <td>92047</td>\n",
       "      <td>Kristin</td>\n",
       "      <td>Olivia helped me with directions to arrive &amp; l...</td>\n",
       "    </tr>\n",
       "    <tr>\n",
       "      <th>2</th>\n",
       "      <td>45392</td>\n",
       "      <td>377312</td>\n",
       "      <td>2011-07-16</td>\n",
       "      <td>323103</td>\n",
       "      <td>Jessie</td>\n",
       "      <td>Olivia was incredibly helpful and knowledgable...</td>\n",
       "    </tr>\n",
       "    <tr>\n",
       "      <th>3</th>\n",
       "      <td>109</td>\n",
       "      <td>74506539</td>\n",
       "      <td>2016-05-15</td>\n",
       "      <td>22509885</td>\n",
       "      <td>Jenn</td>\n",
       "      <td>Me and two friends stayed for four and a half ...</td>\n",
       "    </tr>\n",
       "    <tr>\n",
       "      <th>4</th>\n",
       "      <td>2708</td>\n",
       "      <td>13994902</td>\n",
       "      <td>2014-06-09</td>\n",
       "      <td>10905424</td>\n",
       "      <td>Kuberan</td>\n",
       "      <td>i had a wonderful stay. Everything from start ...</td>\n",
       "    </tr>\n",
       "    <tr>\n",
       "      <th>5</th>\n",
       "      <td>45392</td>\n",
       "      <td>832642</td>\n",
       "      <td>2012-01-03</td>\n",
       "      <td>1451816</td>\n",
       "      <td>Peter</td>\n",
       "      <td>Loved my stay at Oliva's home. This is a reall...</td>\n",
       "    </tr>\n",
       "    <tr>\n",
       "      <th>6</th>\n",
       "      <td>45392</td>\n",
       "      <td>988123</td>\n",
       "      <td>2012-03-11</td>\n",
       "      <td>1185761</td>\n",
       "      <td>Arturo</td>\n",
       "      <td>Olivia and Alexey are kind people and your dog...</td>\n",
       "    </tr>\n",
       "    <tr>\n",
       "      <th>7</th>\n",
       "      <td>45392</td>\n",
       "      <td>1099414</td>\n",
       "      <td>2012-04-08</td>\n",
       "      <td>1012919</td>\n",
       "      <td>Ian</td>\n",
       "      <td>fantastic experience, great room, private and ...</td>\n",
       "    </tr>\n",
       "    <tr>\n",
       "      <th>8</th>\n",
       "      <td>45392</td>\n",
       "      <td>1197227</td>\n",
       "      <td>2012-04-29</td>\n",
       "      <td>261886</td>\n",
       "      <td>Julia</td>\n",
       "      <td>Our stay at Olivia and Alexexs Home was really...</td>\n",
       "    </tr>\n",
       "    <tr>\n",
       "      <th>9</th>\n",
       "      <td>45392</td>\n",
       "      <td>1608723</td>\n",
       "      <td>2012-07-02</td>\n",
       "      <td>2088988</td>\n",
       "      <td>Aaron</td>\n",
       "      <td>Olivia and Alexey are super nice people.  They...</td>\n",
       "    </tr>\n",
       "  </tbody>\n",
       "</table>\n",
       "</div>"
      ],
      "text/plain": [
       "   listing_id        id        date  reviewer_id reviewer_name  \\\n",
       "0         109    449036  2011-08-15       927861         Edwin   \n",
       "1       45392    270172  2011-05-18        92047       Kristin   \n",
       "2       45392    377312  2011-07-16       323103        Jessie   \n",
       "3         109  74506539  2016-05-15     22509885          Jenn   \n",
       "4        2708  13994902  2014-06-09     10905424       Kuberan   \n",
       "5       45392    832642  2012-01-03      1451816         Peter   \n",
       "6       45392    988123  2012-03-11      1185761        Arturo   \n",
       "7       45392   1099414  2012-04-08      1012919           Ian   \n",
       "8       45392   1197227  2012-04-29       261886         Julia   \n",
       "9       45392   1608723  2012-07-02      2088988         Aaron   \n",
       "\n",
       "                                            comments  \n",
       "0  The host canceled my reservation the day befor...  \n",
       "1  Olivia helped me with directions to arrive & l...  \n",
       "2  Olivia was incredibly helpful and knowledgable...  \n",
       "3  Me and two friends stayed for four and a half ...  \n",
       "4  i had a wonderful stay. Everything from start ...  \n",
       "5  Loved my stay at Oliva's home. This is a reall...  \n",
       "6  Olivia and Alexey are kind people and your dog...  \n",
       "7  fantastic experience, great room, private and ...  \n",
       "8  Our stay at Olivia and Alexexs Home was really...  \n",
       "9  Olivia and Alexey are super nice people.  They...  "
      ]
     },
     "execution_count": 38,
     "metadata": {},
     "output_type": "execute_result"
    }
   ],
   "source": [
    "reviews.head(10)"
   ]
  },
  {
   "cell_type": "code",
   "execution_count": 18,
   "id": "4e73af02",
   "metadata": {},
   "outputs": [
    {
     "data": {
      "text/plain": [
       "Index(['listing_id', 'id', 'date', 'reviewer_id', 'reviewer_name', 'comments'], dtype='object')"
      ]
     },
     "execution_count": 18,
     "metadata": {},
     "output_type": "execute_result"
    }
   ],
   "source": [
    "reviews.columns"
   ]
  },
  {
   "cell_type": "code",
   "execution_count": 39,
   "id": "f8db329b",
   "metadata": {},
   "outputs": [],
   "source": [
    "#excluse comma in reviews\n",
    "reviews[\"comments\"] = reviews[\"comments\"].str.replace(\"!\",\" \",regex=True)\n",
    "reviews[\"comments\"] = reviews[\"comments\"].str.replace(\",\",\" \",regex=True)\n",
    "reviews[\"comments\"] = reviews[\"comments\"].str.replace(\"<br/>\",\" \",regex=True)\n",
    "reviews[\"comments\"] = reviews[\"comments\"].str.replace(\".\",\" \",regex=True)"
   ]
  },
  {
   "cell_type": "code",
   "execution_count": 6,
   "id": "6145ee87",
   "metadata": {},
   "outputs": [],
   "source": [
    "# drop 'Unnamed: 0'\n",
    "#reviews = reviews.drop(['Unnamed: 0'], axis=1)"
   ]
  },
  {
   "cell_type": "code",
   "execution_count": 59,
   "id": "941ff324",
   "metadata": {},
   "outputs": [
    {
     "data": {
      "text/html": [
       "<div>\n",
       "<style scoped>\n",
       "    .dataframe tbody tr th:only-of-type {\n",
       "        vertical-align: middle;\n",
       "    }\n",
       "\n",
       "    .dataframe tbody tr th {\n",
       "        vertical-align: top;\n",
       "    }\n",
       "\n",
       "    .dataframe thead th {\n",
       "        text-align: right;\n",
       "    }\n",
       "</style>\n",
       "<table border=\"1\" class=\"dataframe\">\n",
       "  <thead>\n",
       "    <tr style=\"text-align: right;\">\n",
       "      <th></th>\n",
       "      <th>listing_id</th>\n",
       "      <th>id</th>\n",
       "      <th>date</th>\n",
       "      <th>reviewer_id</th>\n",
       "      <th>reviewer_name</th>\n",
       "      <th>comments</th>\n",
       "    </tr>\n",
       "  </thead>\n",
       "  <tbody>\n",
       "    <tr>\n",
       "      <th>0</th>\n",
       "      <td>109</td>\n",
       "      <td>449036.0</td>\n",
       "      <td>8/15/2011</td>\n",
       "      <td>927861</td>\n",
       "      <td>Edwin</td>\n",
       "      <td>The host canceled my reservation the day befor...</td>\n",
       "    </tr>\n",
       "    <tr>\n",
       "      <th>1</th>\n",
       "      <td>45392</td>\n",
       "      <td>270172.0</td>\n",
       "      <td>5/18/2011</td>\n",
       "      <td>92047</td>\n",
       "      <td>Kristin</td>\n",
       "      <td>Olivia helped me with directions to arrive &amp; l...</td>\n",
       "    </tr>\n",
       "    <tr>\n",
       "      <th>2</th>\n",
       "      <td>45392</td>\n",
       "      <td>377312.0</td>\n",
       "      <td>7/16/2011</td>\n",
       "      <td>323103</td>\n",
       "      <td>Jessie</td>\n",
       "      <td>Olivia was incredibly helpful and knowledgable...</td>\n",
       "    </tr>\n",
       "    <tr>\n",
       "      <th>3</th>\n",
       "      <td>109</td>\n",
       "      <td>74506539.0</td>\n",
       "      <td>5/15/2016</td>\n",
       "      <td>22509885</td>\n",
       "      <td>Jenn</td>\n",
       "      <td>Me and two friends stayed for four and a half ...</td>\n",
       "    </tr>\n",
       "    <tr>\n",
       "      <th>4</th>\n",
       "      <td>2708</td>\n",
       "      <td>13994902.0</td>\n",
       "      <td>6/9/2014</td>\n",
       "      <td>10905424</td>\n",
       "      <td>Kuberan</td>\n",
       "      <td>i had a wonderful stay. Everything from start ...</td>\n",
       "    </tr>\n",
       "    <tr>\n",
       "      <th>...</th>\n",
       "      <td>...</td>\n",
       "      <td>...</td>\n",
       "      <td>...</td>\n",
       "      <td>...</td>\n",
       "      <td>...</td>\n",
       "      <td>...</td>\n",
       "    </tr>\n",
       "    <tr>\n",
       "      <th>95</th>\n",
       "      <td>5728</td>\n",
       "      <td>3489571.0</td>\n",
       "      <td>2/6/2013</td>\n",
       "      <td>4830401</td>\n",
       "      <td>Rachel</td>\n",
       "      <td>Loved it! Super close to the airport. The room...</td>\n",
       "    </tr>\n",
       "    <tr>\n",
       "      <th>96</th>\n",
       "      <td>5728</td>\n",
       "      <td>3536870.0</td>\n",
       "      <td>2/13/2013</td>\n",
       "      <td>1006155</td>\n",
       "      <td>Mejai Kai</td>\n",
       "      <td>Great stay</td>\n",
       "    </tr>\n",
       "    <tr>\n",
       "      <th>97</th>\n",
       "      <td>5728</td>\n",
       "      <td>3584992.0</td>\n",
       "      <td>2/19/2013</td>\n",
       "      <td>4842651</td>\n",
       "      <td>Mike</td>\n",
       "      <td>I enjoyed the experience, very peaceful and cr...</td>\n",
       "    </tr>\n",
       "    <tr>\n",
       "      <th>98</th>\n",
       "      <td>45392</td>\n",
       "      <td>366537363.0</td>\n",
       "      <td>1/2/2019</td>\n",
       "      <td>108748474</td>\n",
       "      <td>Jayme</td>\n",
       "      <td>Awesme</td>\n",
       "    </tr>\n",
       "    <tr>\n",
       "      <th>99</th>\n",
       "      <td>45392</td>\n",
       "      <td>402802986.0</td>\n",
       "      <td>1/19/2019</td>\n",
       "      <td>108748474</td>\n",
       "      <td>Jayme</td>\n",
       "      <td>Very friendly and helpful!  I recommend this t...</td>\n",
       "    </tr>\n",
       "  </tbody>\n",
       "</table>\n",
       "<p>100 rows × 6 columns</p>\n",
       "</div>"
      ],
      "text/plain": [
       "    listing_id           id       date  reviewer_id reviewer_name  \\\n",
       "0          109     449036.0  8/15/2011       927861         Edwin   \n",
       "1        45392     270172.0  5/18/2011        92047       Kristin   \n",
       "2        45392     377312.0  7/16/2011       323103        Jessie   \n",
       "3          109   74506539.0  5/15/2016     22509885          Jenn   \n",
       "4         2708   13994902.0   6/9/2014     10905424       Kuberan   \n",
       "..         ...          ...        ...          ...           ...   \n",
       "95        5728    3489571.0   2/6/2013      4830401        Rachel   \n",
       "96        5728    3536870.0  2/13/2013      1006155     Mejai Kai   \n",
       "97        5728    3584992.0  2/19/2013      4842651          Mike   \n",
       "98       45392  366537363.0   1/2/2019    108748474         Jayme   \n",
       "99       45392  402802986.0  1/19/2019    108748474         Jayme   \n",
       "\n",
       "                                             comments  \n",
       "0   The host canceled my reservation the day befor...  \n",
       "1   Olivia helped me with directions to arrive & l...  \n",
       "2   Olivia was incredibly helpful and knowledgable...  \n",
       "3   Me and two friends stayed for four and a half ...  \n",
       "4   i had a wonderful stay. Everything from start ...  \n",
       "..                                                ...  \n",
       "95  Loved it! Super close to the airport. The room...  \n",
       "96                                         Great stay  \n",
       "97  I enjoyed the experience, very peaceful and cr...  \n",
       "98                                             Awesme  \n",
       "99  Very friendly and helpful!  I recommend this t...  \n",
       "\n",
       "[100 rows x 6 columns]"
      ]
     },
     "execution_count": 59,
     "metadata": {},
     "output_type": "execute_result"
    }
   ],
   "source": [
    "reviews.head(100)"
   ]
  },
  {
   "cell_type": "code",
   "execution_count": 60,
   "id": "656f51c9",
   "metadata": {},
   "outputs": [],
   "source": [
    "#output\n",
    "reviews.to_csv(\"/Users/tgcn/Official_Things/Emory/Manage big data/FINAL PROJECT/review_new.csv\",header=True,index=False)"
   ]
  },
  {
   "cell_type": "code",
   "execution_count": null,
   "id": "0ecfaeb5",
   "metadata": {},
   "outputs": [],
   "source": []
  }
 ],
 "metadata": {
  "kernelspec": {
   "display_name": "Python 3 (ipykernel)",
   "language": "python",
   "name": "python3"
  },
  "language_info": {
   "codemirror_mode": {
    "name": "ipython",
    "version": 3
   },
   "file_extension": ".py",
   "mimetype": "text/x-python",
   "name": "python",
   "nbconvert_exporter": "python",
   "pygments_lexer": "ipython3",
   "version": "3.9.7"
  }
 },
 "nbformat": 4,
 "nbformat_minor": 5
}
